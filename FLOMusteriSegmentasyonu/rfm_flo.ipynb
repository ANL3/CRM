{
 "cells": [
  {
   "cell_type": "markdown",
   "metadata": {},
   "source": [
    "### RFM ile Müşteri Segmentasyonu (Customer Segmentation with RFM)"
   ]
  },
  {
   "cell_type": "markdown",
   "metadata": {},
   "source": [
    "* 1. İş Problemi (Business Problem)\n",
    "* 2. Veriyi Anlama (Data Understanding)\n",
    "* 3. Veri Hazırlama (Data Preparation)\n",
    "* 4. RFM Metriklerinin Hesaplanması (Calculating RFM Metrics)\n",
    "* 5. RFM Skorlarının Hesaplanması (Calculating RFM Scores)\n",
    "* 6. RFM Segmentlerinin Oluşturulması ve Analiz Edilmesi (Creating & Analysing RFM Segments)\n",
    "* 1. Tüm Sürecin Fonksiyonlaştırılması"
   ]
  },
  {
   "cell_type": "markdown",
   "metadata": {},
   "source": [
    "### 1. İş Problemi (Business Problem)"
   ]
  },
  {
   "cell_type": "markdown",
   "metadata": {},
   "source": [
    "* Online ayakkabı mağazası olan FLO müşterilerini\n",
    "segmentlere ayırıp bu segmentlere göre pazarlama\n",
    "stratejileri belirlemek istiyor. Buna yönelik olarak\n",
    "müşterilerin davranışları tanımlanacak ve bu\n",
    "davranışlardaki öbeklenmelere göre gruplar oluşturulacak."
   ]
  },
  {
   "cell_type": "markdown",
   "metadata": {},
   "source": [
    "*Değişkenler*\n",
    "\n",
    "Veri seti Flo’dan son alışverişlerini 2020 - 2021 yıllarında OmniChannel (hem online hem offline alışverişyapan) olarak yapan müşterilerin geçmişalışverişdavranışlarından elde edilen bilgilerden oluşmaktadır.\n",
    "\n",
    "* master_id : Eşsiz müşteri numarası\n",
    "* order_channel : Alışverişyapılan platforma ait hangi kanalın kullanıldığı (Android, ios, Desktop, Mobile)\n",
    "* last_order_channel : En son alışverişin yapıldığı kanal\n",
    "* first_order_date : Müşterinin yaptığı ilk alışveriş tarihi\n",
    "* last_order_date : Müşterinin yaptığı son alışveriş tarihi\n",
    "* last_order_date_online : Müşterinin online platformda yaptığı son alışveriş tarihi\n",
    "* last_order_date_offline : Müşterinin offline platformda yaptığı son alışveriş tarihi\n",
    "* order_num_total_ever_online : Müşterinin online platformda yaptığı toplam alışveriş sayısı\n",
    "* order_num_total_ever_offline : Müşterinin offline'da yaptığı toplam alışveriş sayısı\n",
    "* customer_value_total_ever_offline : Müşterinin offline alışverişlerinde ödediği toplam ücreti\n",
    "* customer_value_total_ever_online : Müşterinin online alışverişlerinde ödediği toplam ücreti\n",
    "* interested_in_categories_12 : Müşterinin son 12 ayda alışverişyaptığı kategorilerin listesi"
   ]
  },
  {
   "cell_type": "markdown",
   "metadata": {},
   "source": [
    "### 2. Veriyi Anlama (Data Understanding)"
   ]
  },
  {
   "cell_type": "code",
   "execution_count": 1,
   "metadata": {},
   "outputs": [],
   "source": [
    "import pandas as pd\n",
    "import datetime as dt"
   ]
  },
  {
   "cell_type": "code",
   "execution_count": 2,
   "metadata": {},
   "outputs": [],
   "source": [
    "pd.set_option('display.max_columns', None)\n",
    "# pd.set_option('display.max_rows', None)\n",
    "pd.set_option('display.float_format', lambda x: '%.3f' % x)"
   ]
  },
  {
   "cell_type": "code",
   "execution_count": 3,
   "metadata": {},
   "outputs": [],
   "source": [
    "df_ = pd.read_csv(\"flo_data_20k.csv\")\n",
    "df = df_.copy()"
   ]
  },
  {
   "cell_type": "code",
   "execution_count": 4,
   "metadata": {},
   "outputs": [
    {
     "data": {
      "text/html": [
       "<div>\n",
       "<style scoped>\n",
       "    .dataframe tbody tr th:only-of-type {\n",
       "        vertical-align: middle;\n",
       "    }\n",
       "\n",
       "    .dataframe tbody tr th {\n",
       "        vertical-align: top;\n",
       "    }\n",
       "\n",
       "    .dataframe thead th {\n",
       "        text-align: right;\n",
       "    }\n",
       "</style>\n",
       "<table border=\"1\" class=\"dataframe\">\n",
       "  <thead>\n",
       "    <tr style=\"text-align: right;\">\n",
       "      <th></th>\n",
       "      <th>master_id</th>\n",
       "      <th>order_channel</th>\n",
       "      <th>last_order_channel</th>\n",
       "      <th>first_order_date</th>\n",
       "      <th>last_order_date</th>\n",
       "      <th>last_order_date_online</th>\n",
       "      <th>last_order_date_offline</th>\n",
       "      <th>order_num_total_ever_online</th>\n",
       "      <th>order_num_total_ever_offline</th>\n",
       "      <th>customer_value_total_ever_offline</th>\n",
       "      <th>customer_value_total_ever_online</th>\n",
       "      <th>interested_in_categories_12</th>\n",
       "    </tr>\n",
       "  </thead>\n",
       "  <tbody>\n",
       "    <tr>\n",
       "      <th>0</th>\n",
       "      <td>cc294636-19f0-11eb-8d74-000d3a38a36f</td>\n",
       "      <td>Android App</td>\n",
       "      <td>Offline</td>\n",
       "      <td>2020-10-30</td>\n",
       "      <td>2021-02-26</td>\n",
       "      <td>2021-02-21</td>\n",
       "      <td>2021-02-26</td>\n",
       "      <td>4.000</td>\n",
       "      <td>1.000</td>\n",
       "      <td>139.990</td>\n",
       "      <td>799.380</td>\n",
       "      <td>[KADIN]</td>\n",
       "    </tr>\n",
       "    <tr>\n",
       "      <th>1</th>\n",
       "      <td>f431bd5a-ab7b-11e9-a2fc-000d3a38a36f</td>\n",
       "      <td>Android App</td>\n",
       "      <td>Mobile</td>\n",
       "      <td>2017-02-08</td>\n",
       "      <td>2021-02-16</td>\n",
       "      <td>2021-02-16</td>\n",
       "      <td>2020-01-10</td>\n",
       "      <td>19.000</td>\n",
       "      <td>2.000</td>\n",
       "      <td>159.970</td>\n",
       "      <td>1853.580</td>\n",
       "      <td>[ERKEK, COCUK, KADIN, AKTIFSPOR]</td>\n",
       "    </tr>\n",
       "    <tr>\n",
       "      <th>2</th>\n",
       "      <td>69b69676-1a40-11ea-941b-000d3a38a36f</td>\n",
       "      <td>Android App</td>\n",
       "      <td>Android App</td>\n",
       "      <td>2019-11-27</td>\n",
       "      <td>2020-11-27</td>\n",
       "      <td>2020-11-27</td>\n",
       "      <td>2019-12-01</td>\n",
       "      <td>3.000</td>\n",
       "      <td>2.000</td>\n",
       "      <td>189.970</td>\n",
       "      <td>395.350</td>\n",
       "      <td>[ERKEK, KADIN]</td>\n",
       "    </tr>\n",
       "    <tr>\n",
       "      <th>3</th>\n",
       "      <td>1854e56c-491f-11eb-806e-000d3a38a36f</td>\n",
       "      <td>Android App</td>\n",
       "      <td>Android App</td>\n",
       "      <td>2021-01-06</td>\n",
       "      <td>2021-01-17</td>\n",
       "      <td>2021-01-17</td>\n",
       "      <td>2021-01-06</td>\n",
       "      <td>1.000</td>\n",
       "      <td>1.000</td>\n",
       "      <td>39.990</td>\n",
       "      <td>81.980</td>\n",
       "      <td>[AKTIFCOCUK, COCUK]</td>\n",
       "    </tr>\n",
       "    <tr>\n",
       "      <th>4</th>\n",
       "      <td>d6ea1074-f1f5-11e9-9346-000d3a38a36f</td>\n",
       "      <td>Desktop</td>\n",
       "      <td>Desktop</td>\n",
       "      <td>2019-08-03</td>\n",
       "      <td>2021-03-07</td>\n",
       "      <td>2021-03-07</td>\n",
       "      <td>2019-08-03</td>\n",
       "      <td>1.000</td>\n",
       "      <td>1.000</td>\n",
       "      <td>49.990</td>\n",
       "      <td>159.990</td>\n",
       "      <td>[AKTIFSPOR]</td>\n",
       "    </tr>\n",
       "    <tr>\n",
       "      <th>5</th>\n",
       "      <td>e585280e-aae1-11e9-a2fc-000d3a38a36f</td>\n",
       "      <td>Desktop</td>\n",
       "      <td>Offline</td>\n",
       "      <td>2018-11-18</td>\n",
       "      <td>2021-03-13</td>\n",
       "      <td>2018-11-18</td>\n",
       "      <td>2021-03-13</td>\n",
       "      <td>1.000</td>\n",
       "      <td>2.000</td>\n",
       "      <td>150.870</td>\n",
       "      <td>49.990</td>\n",
       "      <td>[KADIN]</td>\n",
       "    </tr>\n",
       "    <tr>\n",
       "      <th>6</th>\n",
       "      <td>c445e4ee-6242-11ea-9d1a-000d3a38a36f</td>\n",
       "      <td>Android App</td>\n",
       "      <td>Android App</td>\n",
       "      <td>2020-03-04</td>\n",
       "      <td>2020-10-18</td>\n",
       "      <td>2020-10-18</td>\n",
       "      <td>2020-03-04</td>\n",
       "      <td>3.000</td>\n",
       "      <td>1.000</td>\n",
       "      <td>59.990</td>\n",
       "      <td>315.940</td>\n",
       "      <td>[AKTIFSPOR]</td>\n",
       "    </tr>\n",
       "    <tr>\n",
       "      <th>7</th>\n",
       "      <td>3f1b4dc8-8a7d-11ea-8ec0-000d3a38a36f</td>\n",
       "      <td>Mobile</td>\n",
       "      <td>Offline</td>\n",
       "      <td>2020-05-15</td>\n",
       "      <td>2020-08-12</td>\n",
       "      <td>2020-05-15</td>\n",
       "      <td>2020-08-12</td>\n",
       "      <td>1.000</td>\n",
       "      <td>1.000</td>\n",
       "      <td>49.990</td>\n",
       "      <td>113.640</td>\n",
       "      <td>[COCUK]</td>\n",
       "    </tr>\n",
       "    <tr>\n",
       "      <th>8</th>\n",
       "      <td>cfbda69e-5b4f-11ea-aca7-000d3a38a36f</td>\n",
       "      <td>Android App</td>\n",
       "      <td>Android App</td>\n",
       "      <td>2020-01-23</td>\n",
       "      <td>2021-03-07</td>\n",
       "      <td>2021-03-07</td>\n",
       "      <td>2020-01-25</td>\n",
       "      <td>3.000</td>\n",
       "      <td>2.000</td>\n",
       "      <td>120.480</td>\n",
       "      <td>934.210</td>\n",
       "      <td>[ERKEK, COCUK, KADIN]</td>\n",
       "    </tr>\n",
       "    <tr>\n",
       "      <th>9</th>\n",
       "      <td>1143f032-440d-11ea-8b43-000d3a38a36f</td>\n",
       "      <td>Mobile</td>\n",
       "      <td>Mobile</td>\n",
       "      <td>2019-07-30</td>\n",
       "      <td>2020-10-04</td>\n",
       "      <td>2020-10-04</td>\n",
       "      <td>2019-07-30</td>\n",
       "      <td>1.000</td>\n",
       "      <td>1.000</td>\n",
       "      <td>69.980</td>\n",
       "      <td>95.980</td>\n",
       "      <td>[KADIN, AKTIFSPOR]</td>\n",
       "    </tr>\n",
       "  </tbody>\n",
       "</table>\n",
       "</div>"
      ],
      "text/plain": [
       "                              master_id order_channel last_order_channel  \\\n",
       "0  cc294636-19f0-11eb-8d74-000d3a38a36f   Android App            Offline   \n",
       "1  f431bd5a-ab7b-11e9-a2fc-000d3a38a36f   Android App             Mobile   \n",
       "2  69b69676-1a40-11ea-941b-000d3a38a36f   Android App        Android App   \n",
       "3  1854e56c-491f-11eb-806e-000d3a38a36f   Android App        Android App   \n",
       "4  d6ea1074-f1f5-11e9-9346-000d3a38a36f       Desktop            Desktop   \n",
       "5  e585280e-aae1-11e9-a2fc-000d3a38a36f       Desktop            Offline   \n",
       "6  c445e4ee-6242-11ea-9d1a-000d3a38a36f   Android App        Android App   \n",
       "7  3f1b4dc8-8a7d-11ea-8ec0-000d3a38a36f        Mobile            Offline   \n",
       "8  cfbda69e-5b4f-11ea-aca7-000d3a38a36f   Android App        Android App   \n",
       "9  1143f032-440d-11ea-8b43-000d3a38a36f        Mobile             Mobile   \n",
       "\n",
       "  first_order_date last_order_date last_order_date_online  \\\n",
       "0       2020-10-30      2021-02-26             2021-02-21   \n",
       "1       2017-02-08      2021-02-16             2021-02-16   \n",
       "2       2019-11-27      2020-11-27             2020-11-27   \n",
       "3       2021-01-06      2021-01-17             2021-01-17   \n",
       "4       2019-08-03      2021-03-07             2021-03-07   \n",
       "5       2018-11-18      2021-03-13             2018-11-18   \n",
       "6       2020-03-04      2020-10-18             2020-10-18   \n",
       "7       2020-05-15      2020-08-12             2020-05-15   \n",
       "8       2020-01-23      2021-03-07             2021-03-07   \n",
       "9       2019-07-30      2020-10-04             2020-10-04   \n",
       "\n",
       "  last_order_date_offline  order_num_total_ever_online  \\\n",
       "0              2021-02-26                        4.000   \n",
       "1              2020-01-10                       19.000   \n",
       "2              2019-12-01                        3.000   \n",
       "3              2021-01-06                        1.000   \n",
       "4              2019-08-03                        1.000   \n",
       "5              2021-03-13                        1.000   \n",
       "6              2020-03-04                        3.000   \n",
       "7              2020-08-12                        1.000   \n",
       "8              2020-01-25                        3.000   \n",
       "9              2019-07-30                        1.000   \n",
       "\n",
       "   order_num_total_ever_offline  customer_value_total_ever_offline  \\\n",
       "0                         1.000                            139.990   \n",
       "1                         2.000                            159.970   \n",
       "2                         2.000                            189.970   \n",
       "3                         1.000                             39.990   \n",
       "4                         1.000                             49.990   \n",
       "5                         2.000                            150.870   \n",
       "6                         1.000                             59.990   \n",
       "7                         1.000                             49.990   \n",
       "8                         2.000                            120.480   \n",
       "9                         1.000                             69.980   \n",
       "\n",
       "   customer_value_total_ever_online       interested_in_categories_12  \n",
       "0                           799.380                           [KADIN]  \n",
       "1                          1853.580  [ERKEK, COCUK, KADIN, AKTIFSPOR]  \n",
       "2                           395.350                    [ERKEK, KADIN]  \n",
       "3                            81.980               [AKTIFCOCUK, COCUK]  \n",
       "4                           159.990                       [AKTIFSPOR]  \n",
       "5                            49.990                           [KADIN]  \n",
       "6                           315.940                       [AKTIFSPOR]  \n",
       "7                           113.640                           [COCUK]  \n",
       "8                           934.210             [ERKEK, COCUK, KADIN]  \n",
       "9                            95.980                [KADIN, AKTIFSPOR]  "
      ]
     },
     "execution_count": 4,
     "metadata": {},
     "output_type": "execute_result"
    }
   ],
   "source": [
    "df.head(10)"
   ]
  },
  {
   "cell_type": "code",
   "execution_count": 5,
   "metadata": {},
   "outputs": [
    {
     "data": {
      "text/plain": [
       "(19945, 12)"
      ]
     },
     "execution_count": 5,
     "metadata": {},
     "output_type": "execute_result"
    }
   ],
   "source": [
    "df.shape"
   ]
  },
  {
   "cell_type": "code",
   "execution_count": 6,
   "metadata": {},
   "outputs": [
    {
     "data": {
      "text/plain": [
       "master_id                            0\n",
       "order_channel                        0\n",
       "last_order_channel                   0\n",
       "first_order_date                     0\n",
       "last_order_date                      0\n",
       "last_order_date_online               0\n",
       "last_order_date_offline              0\n",
       "order_num_total_ever_online          0\n",
       "order_num_total_ever_offline         0\n",
       "customer_value_total_ever_offline    0\n",
       "customer_value_total_ever_online     0\n",
       "interested_in_categories_12          0\n",
       "dtype: int64"
      ]
     },
     "execution_count": 6,
     "metadata": {},
     "output_type": "execute_result"
    }
   ],
   "source": [
    "df.isnull().sum()"
   ]
  },
  {
   "cell_type": "code",
   "execution_count": null,
   "metadata": {},
   "outputs": [],
   "source": []
  }
 ],
 "metadata": {
  "kernelspec": {
   "display_name": "Python 3",
   "language": "python",
   "name": "python3"
  },
  "language_info": {
   "codemirror_mode": {
    "name": "ipython",
    "version": 3
   },
   "file_extension": ".py",
   "mimetype": "text/x-python",
   "name": "python",
   "nbconvert_exporter": "python",
   "pygments_lexer": "ipython3",
   "version": "3.10.8"
  },
  "orig_nbformat": 4
 },
 "nbformat": 4,
 "nbformat_minor": 2
}
